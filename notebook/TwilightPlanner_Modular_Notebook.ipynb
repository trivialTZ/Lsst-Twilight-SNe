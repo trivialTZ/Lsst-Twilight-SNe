{
 "cells": [
  {
   "cell_type": "markdown",
   "id": "9c43c332",
   "metadata": {},
   "source": [
    "# LSST Twilight Planner (Modular) \u2014 Notebook\n",
    "\n",
    "This notebook demonstrates the use of the `twilight_planner_pkg` package to\n",
    "generate twilight observing plans. The workflow is:\n",
    "\n",
    "1. Set up imports and paths for the input SN catalog and output directory.\n",
    "2. Build a fully specified `PlannerConfig` object with all optional parameters\n",
    "   shown (defaults are used unless otherwise noted).\n",
    "3. Run the planner and inspect the CSV outputs written to `OUTDIR`.\n"
   ]
  },
  {
   "cell_type": "code",
   "execution_count": null,
   "id": "74571a3b",
   "metadata": {},
   "outputs": [],
   "source": [
    "# --- Imports and path setup ---\n",
    "import sys\n",
    "import os\n",
    "sys.path.insert(0, os.path.abspath(\"..\"))\n",
    "\n",
    "# Ensure local package is importable\n",
    "\n",
    "from twilight_planner_pkg.config import PlannerConfig\n",
    "from twilight_planner_pkg.scheduler import plan_twilight_range_with_caps\n",
    "\n",
    "# Paths: adjust if your data/output lives elsewhere\n",
    "CSV_PATH = \"../data/ATLAS_2021_to25_with_fakes_like_input.csv\"\n",
    "OUTDIR = \"../twilight_outputs\"\n",
    "os.makedirs(OUTDIR, exist_ok=True)\n",
    "\n",
    "print(\"CSV exists:\", os.path.exists(CSV_PATH))\n",
    "print(\"Output dir:\", OUTDIR)"
   ]
  },
  {
   "cell_type": "markdown",
   "id": "bdb64ead",
   "metadata": {},
   "source": [
    "## Configure the planner\n",
    "\n",
    "The next cell defines a complete `PlannerConfig`. Every parameter of the\n",
    "dataclass is included so the notebook doubles as documentation. Edit any value\n",
    "to explore different strategies or hardware assumptions.\n",
    "\n",
    "### Default Host Surface Brightness\n",
    "- Exposure capping includes an optional default host SB fallback when per-target host inputs are missing.\n",
    "- Enabled by default: `cfg.use_default_host_sb = True`.\n",
    "- Default per-filter values: `cfg.default_host_mu_arcsec2_by_filter = {'u': 22.0, 'g': 22.0, 'r': 22.0, 'i': 22.0, 'z': 22.0, 'y': 22.0}`.\n",
    "- To disable, set `cfg.use_default_host_sb = False`. Customize by editing `cfg.default_host_mu_arcsec2_by_filter`.\n"
   ]
  },
  {
   "cell_type": "code",
   "execution_count": null,
   "id": "e211db27",
   "metadata": {
    "ExecuteTime": {
     "end_time": "2025-08-17T19:21:38.250655Z",
     "start_time": "2025-08-17T19:21:38.241994Z"
    }
   },
   "outputs": [],
   "source": [
    "# ---- Planner configuration (LSST Rubin parity) ----\n",
    "filters = [\"g\", \"r\", \"i\", \"z\", \"Y\"]  # NOTE: capital 'Y' for LSST\n",
    "\n",
    "from twilight_planner_pkg.config import PlannerConfig\n",
    "\n",
    "cfg = PlannerConfig(\n",
    "    filters=filters,\n",
    "    exposure_by_filter={\"g\": 5.0, \"r\": 5.0, \"i\": 5.0, \"z\": 5.0, \"Y\": 5.0},\n",
    "\n",
    "    # Optical + detector\n",
    "    pixel_scale_arcsec=0.2,\n",
    "    gain_e_per_adu=1.6,\n",
    "\n",
    "    # Saturation policy (keep headroom)\n",
    "    simlib_npe_pixel_saturate=80000,\n",
    "    simlib_photflag_saturate=2048,\n",
    "    use_default_host_sb=True,  # enable rest->obs host SB fallback\n",
    "\n",
    "    # Discovery fallback (still on), but we prefer peak mags when z exists\n",
    "    use_discovery_fallback=True,\n",
    "    discovery_policy=\"atlas_priors\",\n",
    "    discovery_assumed_gr=0.0,\n",
    "    discovery_margin_mag=0.2,\n",
    "\n",
    "    # Peak-mag knobs\n",
    "    H0_km_s_Mpc=70.0, Omega_m=0.3, Omega_L=0.7,\n",
    "    MB_absolute=-19.36, SALT2_alpha=0.14, SALT2_beta=3.1,\n",
    "    peak_extra_bright_margin_mag=0.3,\n",
    "    Kcorr_approx_mag_by_filter={\"g\":0.0, \"r\":0.1, \"i\":0.2, \"z\":0.2, \"Y\":0.15},\n",
    "\n",
    "    # Keep policy flexible in twilight\n",
    "    allow_filter_changes_in_twilight=True,\n",
    ")\n",
    "\n",
    "# SIMLIB header consistency\n",
    "cfg.simlib_filters = \"ugrizY\"      # keep Y uppercase\n",
    "cfg.simlib_pixsize = 0.200\n",
    "cfg.simlib_psf_unit = \"PIXEL\"      # SNANA expects PSF1/PSF2/PSFRATIO in PIXEL units\n",
    "\n",
    "# Safety checks\n",
    "assert abs(cfg.pixel_scale_arcsec - 0.2) < 1e-6\n",
    "assert 1.4 <= cfg.gain_e_per_adu <= 1.8\n",
    "assert cfg.simlib_npe_pixel_saturate == 80000\n"
   ]
  },
  {
   "cell_type": "code",
   "metadata": {},
   "execution_count": null,
   "outputs": [],
   "source": [
    "# Use SNANA central-pixel fraction (Taylor expansion) for parity\n",
    "from twilight_planner_pkg.photom_rubin import PhotomConfig\n",
    "phot_defaults = PhotomConfig(\n",
    "    pixel_scale_arcsec=cfg.pixel_scale_arcsec,\n",
    "    gain_e_per_adu=cfg.gain_e_per_adu,\n",
    "    npe_pixel_saturate=cfg.simlib_npe_pixel_saturate,\n",
    "    npe_pixel_warn_nonlinear=int(0.8 * cfg.simlib_npe_pixel_saturate),\n",
    "    use_snana_fA=True\n",
    ")\n"
   ]
  },
  {
   "cell_type": "code",
   "metadata": {},
   "execution_count": null,
   "outputs": [],
   "source": [
    "from functools import lru_cache\n",
    "from twilight_planner_pkg import astro_utils as AU\n",
    "\n",
    "@lru_cache(maxsize=4096)\n",
    "def _peak_mag_cached(z: float, band: str) -> float:\n",
    "    return AU.peak_mag_from_redshift(\n",
    "        float(z), str(band).lower(),\n",
    "        MB=cfg.MB_absolute, alpha=cfg.SALT2_alpha, beta=cfg.SALT2_beta,\n",
    "        H0=cfg.H0_km_s_Mpc, Om=cfg.Omega_m, Ol=cfg.Omega_L,\n",
    "        K_approx=cfg.Kcorr_approx_mag_by_filter.get(str(band).lower(), 0.0),\n",
    "    )\n",
    "\n",
    "# Route internal calls through the cache\n",
    "AU.peak_mag_from_redshift = _peak_mag_cached\n"
   ]
  },
  {
   "cell_type": "code",
   "execution_count": null,
   "id": "c2c35e65",
   "metadata": {},
   "outputs": [],
   "source": [
    "# Diagnose catalog magnitude mapping for discovery fallback\n",
    "from twilight_planner_pkg.examine import diagnose_mag_mapping\n",
    "band_to_col, maglike_cols, preview = diagnose_mag_mapping(CSV_PATH, cfg)\n",
    "print('Band\u2192column mapping:', band_to_col)\n",
    "print('Columns containing \"mag\":', maglike_cols[:10])\n",
    "display(preview)\n",
    "\n"
   ]
  },
  {
   "cell_type": "markdown",
   "id": "95ad0ccd",
   "metadata": {},
   "source": [
    "## Run the planner\n",
    "\n",
    "`plan_twilight_range_with_caps` is invoked below.  It reads the SN catalog from\n",
    "`CSV_PATH`, writes output CSVs to `OUTDIR`, and prints progress information.\n",
    "Two files are produced for each run:\n",
    "\n",
    "- `lsst_twilight_plan_<run_label>_*.csv` \u2014 per-SN schedule\n",
    "- `lsst_twilight_summary_<run_label>_*.csv` \u2014 per-night summary\n"
   ]
  },
  {
   "cell_type": "code",
   "execution_count": null,
   "id": "4ee71b45",
   "metadata": {
    "ExecuteTime": {
     "end_time": "2025-08-17T19:21:51.596605Z",
     "start_time": "2025-08-17T19:21:38.261881Z"
    }
   },
   "outputs": [],
   "source": [
    "from twilight_planner_pkg.scheduler import plan_twilight_range_with_caps\n",
    "\n",
    "catalog_csv = \"path/to/your_catalog.csv\"\n",
    "outdir = \"out/twilight_runs\"\n",
    "start_date = \"2024-01-01\"\n",
    "end_date   = \"2024-01-03\"\n",
    "\n",
    "# Maintain legacy variable names for downstream cells\n",
    "CSV_PATH = catalog_csv\n",
    "OUTDIR = outdir\n",
    "START_DATE = start_date\n",
    "END_DATE = end_date\n",
    "\n",
    "# Enable SIMLIB output (SNANA expects PSF_UNIT=PIXEL)\n",
    "cfg.simlib_out = f\"{outdir}/lsst_twilight.simlib\"\n",
    "\n",
    "pernight_df, nights_df = plan_twilight_range_with_caps(\n",
    "    csv_path=catalog_csv,\n",
    "    outdir=outdir,\n",
    "    start_date=start_date,\n",
    "    end_date=end_date,\n",
    "    cfg=cfg,\n",
    "    run_label=\"hybrid\",\n",
    "    verbose=True\n",
    ")\n"
   ]
  },
  {
   "cell_type": "code",
   "execution_count": null,
   "id": "cfd1c805",
   "metadata": {},
   "outputs": [],
   "source": [
    "perSN_df"
   ]
  },
  {
   "cell_type": "code",
   "execution_count": null,
   "id": "37a1ec29",
   "metadata": {
    "ExecuteTime": {
     "end_time": "2025-08-17T19:21:51.624501Z",
     "start_time": "2025-08-17T19:21:51.618630Z"
    }
   },
   "outputs": [],
   "source": [
    "# Show the nightly summary\n",
    "nights_df"
   ]
  },
  {
   "cell_type": "markdown",
   "id": "9c952898",
   "metadata": {},
   "source": [
    "\n",
    "## Inspect outputs on disk\n"
   ]
  },
  {
   "cell_type": "code",
   "execution_count": null,
   "id": "bd1d7c19",
   "metadata": {
    "ExecuteTime": {
     "end_time": "2025-08-17T19:21:51.654815Z",
     "start_time": "2025-08-17T19:21:51.652441Z"
    }
   },
   "outputs": [],
   "source": [
    "import glob\n",
    "import os\n",
    "\n",
    "files = sorted(glob.glob(os.path.join(OUTDIR, \"lsst_twilight_*.csv\")))\n",
    "files"
   ]
  },
  {
   "cell_type": "code",
   "execution_count": null,
   "id": "7cc09157",
   "metadata": {},
   "outputs": [],
   "source": [
    "# Diagnose per-visit saturation contributions\n",
    "from twilight_planner_pkg.examine import build_saturation_df\n",
    "saturation_df = build_saturation_df(perSN_df, CSV_PATH, cfg)\n",
    "# Save and show a compact view\n",
    "sat_path = os.path.join(OUTDIR, f'saturation_{START_DATE}_to_{END_DATE}.csv')\n",
    "saturation_df.to_csv(sat_path, index=False)\n",
    "cols = ['SN','filter','t_exp_s','t_exp_s_base','src_mag','sky_mag_arcsec2','host_mu_arcsec2',\n",
    "        'e_src','e_sky','e_host','total_e','sat_limit','sat_guard_applied','warn_nonlinear',\n",
    "        'over_sat','over_sat_base']\n",
    "display(saturation_df[cols].head(20))\n",
    "print('Wrote:', sat_path)\n",
    "\n"
   ]
  },
  {
   "cell_type": "code",
   "metadata": {},
   "execution_count": null,
   "outputs": [],
   "source": [
    "print(\"Filters used:\", cfg.filters)\n",
    "print(\"SIMLIB sat (NPE_PIXEL_SATURATE):\", cfg.simlib_npe_pixel_saturate)\n",
    "print(\"PSF_UNIT:\", cfg.simlib_psf_unit)\n",
    "\n",
    "# If SIMLIB was written, glance at header lines\n",
    "if cfg.simlib_out:\n",
    "    with open(cfg.simlib_out, \"r\") as fp:\n",
    "        for i, line in enumerate(fp):\n",
    "            if i > 25:\n",
    "                break\n",
    "            print(line.rstrip())\n"
   ]
  }
 ],
 "metadata": {
  "kernelspec": {
   "display_name": "slsim_",
   "language": "python",
   "name": "python3"
  },
  "language_info": {
   "codemirror_mode": {
    "name": "ipython",
    "version": 3
   },
   "file_extension": ".py",
   "mimetype": "text/x-python",
   "name": "python",
   "nbconvert_exporter": "python",
   "pygments_lexer": "ipython3",
   "version": "3.10.16"
  }
 },
 "nbformat": 4,
 "nbformat_minor": 5
}